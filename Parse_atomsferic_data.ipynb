{
 "cells": [
  {
   "cell_type": "code",
   "execution_count": 1,
   "id": "7f2efce5-bddc-4b0a-862c-a8a753c55522",
   "metadata": {},
   "outputs": [],
   "source": [
    "from parse_atmdata_zip import parse_atmdata_zip"
   ]
  },
  {
   "cell_type": "code",
   "execution_count": 2,
   "id": "9e5073c2-9c9e-439c-a9ca-2a03b5f88dad",
   "metadata": {},
   "outputs": [
    {
     "data": {
      "text/plain": [
       "'air_quality.h5'"
      ]
     },
     "execution_count": 2,
     "metadata": {},
     "output_type": "execute_result"
    }
   ],
   "source": [
    "parse_atmdata_zip('data', 'air_quality.h5')"
   ]
  },
  {
   "cell_type": "code",
   "execution_count": null,
   "id": "52d9159e-79ce-417e-8a48-070735aec06b",
   "metadata": {},
   "outputs": [],
   "source": []
  }
 ],
 "metadata": {
  "kernelspec": {
   "display_name": "Python 3 (ipykernel)",
   "language": "python",
   "name": "python3"
  },
  "language_info": {
   "codemirror_mode": {
    "name": "ipython",
    "version": 3
   },
   "file_extension": ".py",
   "mimetype": "text/x-python",
   "name": "python",
   "nbconvert_exporter": "python",
   "pygments_lexer": "ipython3",
   "version": "3.13.5"
  }
 },
 "nbformat": 4,
 "nbformat_minor": 5
}
